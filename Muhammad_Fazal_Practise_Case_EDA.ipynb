{
  "nbformat": 4,
  "nbformat_minor": 0,
  "metadata": {
    "kernelspec": {
      "display_name": "Python 3",
      "language": "python",
      "name": "python3"
    },
    "language_info": {
      "codemirror_mode": {
        "name": "ipython",
        "version": 3
      },
      "file_extension": ".py",
      "mimetype": "text/x-python",
      "name": "python",
      "nbconvert_exporter": "python",
      "pygments_lexer": "ipython3",
      "version": "3.8.3"
    },
    "colab": {
      "name": "Muhammad Fazal - Practise Case EDA.ipynb",
      "provenance": [],
      "collapsed_sections": [
        "JksBd3epnZP2",
        "JZhdY-oynZP5",
        "6H9cS1VMEcgl",
        "xkdBT3urEYnK",
        "LeorAHIaPUT6",
        "Cyj0Z9C7Y0V1",
        "xLEpGgrtV9mq",
        "6Vk_ixlodD4g",
        "I0X2Fk2ceWfb",
        "2eR-JnkjgBcJ"
      ]
    }
  },
  "cells": [
    {
      "cell_type": "markdown",
      "metadata": {
        "id": "tmX8q5ACnZPq"
      },
      "source": [
        "# Muhammad Fazal Hildiansyah - DS2"
      ]
    },
    {
      "cell_type": "markdown",
      "metadata": {
        "id": "JksBd3epnZP2"
      },
      "source": [
        "## Import Library\n",
        "> Hal pertama yg dilakukan adalah import library yang akan digunakan pada analisa kita"
      ]
    },
    {
      "cell_type": "code",
      "metadata": {
        "id": "72-NJThQnZP4"
      },
      "source": [
        "# import libraries\r\n",
        "import pandas as pd\r\n",
        "import seaborn as sns\r\n",
        "from scipy.stats import shapiro\r\n",
        "\r\n",
        "# import scaler dari sckit-learn untuk scala point\r\n",
        "from sklearn.preprocessing import MinMaxScaler\r\n",
        "\r\n",
        "# import warning agar tidak muncul warning terus di google colab\r\n",
        "import warnings\r\n",
        "warnings.filterwarnings(\"ignore\")"
      ],
      "execution_count": null,
      "outputs": []
    },
    {
      "cell_type": "markdown",
      "metadata": {
        "id": "JZhdY-oynZP5"
      },
      "source": [
        "## Data extraction\n",
        "> Setelah itu, mulai dari Data Pre-processing, start dari extract data dari source yg akan digunakan"
      ]
    },
    {
      "cell_type": "code",
      "metadata": {
        "id": "SpnWuYagnZP6"
      },
      "source": [
        "# Baca datasource dari CSV\n",
        "df = pd.read_csv('https://raw.githubusercontent.com/fazalh/fellowship-ds2-eda/main/epl_1819.csv', thousands=',')"
      ],
      "execution_count": null,
      "outputs": []
    },
    {
      "cell_type": "code",
      "metadata": {
        "colab": {
          "base_uri": "https://localhost:8080/"
        },
        "id": "5S0U2-3gnZP7",
        "outputId": "458dfac0-38d0-4b14-9301-c699dbe243f0"
      },
      "source": [
        "# Check data ada berapa column dan row\n",
        "df.shape"
      ],
      "execution_count": null,
      "outputs": [
        {
          "output_type": "execute_result",
          "data": {
            "text/plain": [
              "(20, 44)"
            ]
          },
          "metadata": {
            "tags": []
          },
          "execution_count": 110
        }
      ]
    },
    {
      "cell_type": "markdown",
      "metadata": {
        "id": "6H9cS1VMEcgl"
      },
      "source": [
        "## Data cleansing\r\n",
        "> soal nomor 1 termasuk dari cleansing"
      ]
    },
    {
      "cell_type": "markdown",
      "metadata": {
        "id": "xkdBT3urEYnK"
      },
      "source": [
        "### 1. Whether this data is clean?"
      ]
    },
    {
      "cell_type": "code",
      "metadata": {
        "colab": {
          "base_uri": "https://localhost:8080/"
        },
        "id": "6yOFR05yEZLY",
        "outputId": "dbd2be14-29b0-4d9c-be97-7f5ea4717907"
      },
      "source": [
        "# karena ini adalah data per team, kita check dulu apakah tidak ada duplicate data\r\n",
        "df['Team'].is_unique"
      ],
      "execution_count": null,
      "outputs": [
        {
          "output_type": "execute_result",
          "data": {
            "text/plain": [
              "True"
            ]
          },
          "metadata": {
            "tags": []
          },
          "execution_count": 111
        }
      ]
    },
    {
      "cell_type": "code",
      "metadata": {
        "colab": {
          "base_uri": "https://localhost:8080/"
        },
        "id": "kpxqCYBKHcjn",
        "outputId": "12c9908d-cd4d-4fb3-8c1a-b0614cd44693"
      },
      "source": [
        "# Check column mana yg paling banyak missing values\r\n",
        "\r\n",
        "df_check = df.isnull().sum().sort_values(ascending=False)\r\n",
        "\r\n",
        "df_check[df_check > 0]"
      ],
      "execution_count": null,
      "outputs": [
        {
          "output_type": "execute_result",
          "data": {
            "text/plain": [
              "Series([], dtype: int64)"
            ]
          },
          "metadata": {
            "tags": []
          },
          "execution_count": 112
        }
      ]
    },
    {
      "cell_type": "code",
      "metadata": {
        "colab": {
          "base_uri": "https://localhost:8080/"
        },
        "id": "KPXr3vusFRjB",
        "outputId": "623d10f2-e5a8-4ebc-eaad-3ae2463a7356"
      },
      "source": [
        "# Check data types tiap column\r\n",
        "# sebelum kita perbaiki saat extract data, terdapat beberapa data yg menjadi object yaitu :\r\n",
        "# attack_passes, attack_passes_long, attack_passes_back, defence_clearance\r\n",
        "df.dtypes"
      ],
      "execution_count": null,
      "outputs": [
        {
          "output_type": "execute_result",
          "data": {
            "text/plain": [
              "Team                              object\n",
              "category                          object\n",
              "general_league_position            int64\n",
              "finance _live_games_televised      int64\n",
              "finance _tv_revenue                int64\n",
              "general_matches_played             int64\n",
              "general_won                        int64\n",
              "general_draw                       int64\n",
              "general_lost                       int64\n",
              "attack_scored                      int64\n",
              "defence_goals_conceeded            int64\n",
              "general_goal_difference            int64\n",
              "general_points                     int64\n",
              "general_squad_size                 int64\n",
              "general_squad_average_age        float64\n",
              "general_squad_foreigners           int64\n",
              "finance _team_market               int64\n",
              "finance _market_average            int64\n",
              "attack_passes                      int64\n",
              "attack_passes_through              int64\n",
              "attack_passes_long                 int64\n",
              "attack_passes_back                 int64\n",
              "attack_crosses                     int64\n",
              "attack_corners_taken               int64\n",
              "attack_shots                       int64\n",
              "attack_shots_on_target             int64\n",
              "attack_goals_headed                int64\n",
              "attack_goals_penalty               int64\n",
              "attack_goals_box                   int64\n",
              "attack_goals_outsidebox            int64\n",
              "general_card_yellow                int64\n",
              "general_card_red                   int64\n",
              "attack_goals_counter               int64\n",
              "attack_goals_freekick              int64\n",
              "defence_saves                      int64\n",
              "defence_blocks                     int64\n",
              "defence_interceptions              int64\n",
              "defence_tackles                    int64\n",
              "defence_tackles_last_man           int64\n",
              "defence_clearances                 int64\n",
              "defence_clearances_headed          int64\n",
              "defence_penalty_conceeded          int64\n",
              "attack_posession                 float64\n",
              "attack_pass_accuracy             float64\n",
              "dtype: object"
            ]
          },
          "metadata": {
            "tags": []
          },
          "execution_count": 113
        }
      ]
    },
    {
      "cell_type": "code",
      "metadata": {
        "colab": {
          "base_uri": "https://localhost:8080/",
          "height": 321
        },
        "id": "c0wCMlUkH2xT",
        "outputId": "c36d7f9b-9d39-4635-9ac4-fcb3d3723005"
      },
      "source": [
        "df.describe()"
      ],
      "execution_count": null,
      "outputs": [
        {
          "output_type": "execute_result",
          "data": {
            "text/html": [
              "<div>\n",
              "<style scoped>\n",
              "    .dataframe tbody tr th:only-of-type {\n",
              "        vertical-align: middle;\n",
              "    }\n",
              "\n",
              "    .dataframe tbody tr th {\n",
              "        vertical-align: top;\n",
              "    }\n",
              "\n",
              "    .dataframe thead th {\n",
              "        text-align: right;\n",
              "    }\n",
              "</style>\n",
              "<table border=\"1\" class=\"dataframe\">\n",
              "  <thead>\n",
              "    <tr style=\"text-align: right;\">\n",
              "      <th></th>\n",
              "      <th>general_league_position</th>\n",
              "      <th>finance _live_games_televised</th>\n",
              "      <th>finance _tv_revenue</th>\n",
              "      <th>general_matches_played</th>\n",
              "      <th>general_won</th>\n",
              "      <th>general_draw</th>\n",
              "      <th>general_lost</th>\n",
              "      <th>attack_scored</th>\n",
              "      <th>defence_goals_conceeded</th>\n",
              "      <th>general_goal_difference</th>\n",
              "      <th>general_points</th>\n",
              "      <th>general_squad_size</th>\n",
              "      <th>general_squad_average_age</th>\n",
              "      <th>general_squad_foreigners</th>\n",
              "      <th>finance _team_market</th>\n",
              "      <th>finance _market_average</th>\n",
              "      <th>attack_passes</th>\n",
              "      <th>attack_passes_through</th>\n",
              "      <th>attack_passes_long</th>\n",
              "      <th>attack_passes_back</th>\n",
              "      <th>attack_crosses</th>\n",
              "      <th>attack_corners_taken</th>\n",
              "      <th>attack_shots</th>\n",
              "      <th>attack_shots_on_target</th>\n",
              "      <th>attack_goals_headed</th>\n",
              "      <th>attack_goals_penalty</th>\n",
              "      <th>attack_goals_box</th>\n",
              "      <th>attack_goals_outsidebox</th>\n",
              "      <th>general_card_yellow</th>\n",
              "      <th>general_card_red</th>\n",
              "      <th>attack_goals_counter</th>\n",
              "      <th>attack_goals_freekick</th>\n",
              "      <th>defence_saves</th>\n",
              "      <th>defence_blocks</th>\n",
              "      <th>defence_interceptions</th>\n",
              "      <th>defence_tackles</th>\n",
              "      <th>defence_tackles_last_man</th>\n",
              "      <th>defence_clearances</th>\n",
              "      <th>defence_clearances_headed</th>\n",
              "      <th>defence_penalty_conceeded</th>\n",
              "      <th>attack_posession</th>\n",
              "      <th>attack_pass_accuracy</th>\n",
              "    </tr>\n",
              "  </thead>\n",
              "  <tbody>\n",
              "    <tr>\n",
              "      <th>count</th>\n",
              "      <td>20.00000</td>\n",
              "      <td>20.000000</td>\n",
              "      <td>2.000000e+01</td>\n",
              "      <td>20.0</td>\n",
              "      <td>20.000000</td>\n",
              "      <td>20.00000</td>\n",
              "      <td>20.000000</td>\n",
              "      <td>20.000000</td>\n",
              "      <td>20.000000</td>\n",
              "      <td>20.000000</td>\n",
              "      <td>20.000000</td>\n",
              "      <td>20.000000</td>\n",
              "      <td>20.000000</td>\n",
              "      <td>20.000000</td>\n",
              "      <td>2.000000e+01</td>\n",
              "      <td>2.000000e+01</td>\n",
              "      <td>20.000000</td>\n",
              "      <td>20.000000</td>\n",
              "      <td>20.000000</td>\n",
              "      <td>20.000000</td>\n",
              "      <td>20.000000</td>\n",
              "      <td>20.000000</td>\n",
              "      <td>20.000000</td>\n",
              "      <td>20.000000</td>\n",
              "      <td>20.000000</td>\n",
              "      <td>20.000000</td>\n",
              "      <td>20.000000</td>\n",
              "      <td>20.000000</td>\n",
              "      <td>20.000000</td>\n",
              "      <td>20.000000</td>\n",
              "      <td>20.000000</td>\n",
              "      <td>20.000000</td>\n",
              "      <td>20.000000</td>\n",
              "      <td>20.000000</td>\n",
              "      <td>20.000000</td>\n",
              "      <td>20.000000</td>\n",
              "      <td>20.000000</td>\n",
              "      <td>20.000000</td>\n",
              "      <td>20.000000</td>\n",
              "      <td>20.000000</td>\n",
              "      <td>20.000000</td>\n",
              "      <td>20.000000</td>\n",
              "    </tr>\n",
              "    <tr>\n",
              "      <th>mean</th>\n",
              "      <td>10.50000</td>\n",
              "      <td>17.100000</td>\n",
              "      <td>1.228004e+08</td>\n",
              "      <td>38.0</td>\n",
              "      <td>15.450000</td>\n",
              "      <td>7.10000</td>\n",
              "      <td>15.450000</td>\n",
              "      <td>53.600000</td>\n",
              "      <td>53.600000</td>\n",
              "      <td>0.000000</td>\n",
              "      <td>53.450000</td>\n",
              "      <td>25.250000</td>\n",
              "      <td>27.490000</td>\n",
              "      <td>17.450000</td>\n",
              "      <td>3.750362e+08</td>\n",
              "      <td>1.498508e+07</td>\n",
              "      <td>17433.100000</td>\n",
              "      <td>58.700000</td>\n",
              "      <td>2333.850000</td>\n",
              "      <td>2590.650000</td>\n",
              "      <td>666.650000</td>\n",
              "      <td>195.350000</td>\n",
              "      <td>481.650000</td>\n",
              "      <td>165.550000</td>\n",
              "      <td>9.300000</td>\n",
              "      <td>4.200000</td>\n",
              "      <td>46.400000</td>\n",
              "      <td>7.250000</td>\n",
              "      <td>61.100000</td>\n",
              "      <td>2.350000</td>\n",
              "      <td>3.350000</td>\n",
              "      <td>1.150000</td>\n",
              "      <td>111.950000</td>\n",
              "      <td>127.750000</td>\n",
              "      <td>429.300000</td>\n",
              "      <td>646.250000</td>\n",
              "      <td>3.200000</td>\n",
              "      <td>862.600000</td>\n",
              "      <td>429.400000</td>\n",
              "      <td>5.350000</td>\n",
              "      <td>49.995000</td>\n",
              "      <td>78.310000</td>\n",
              "    </tr>\n",
              "    <tr>\n",
              "      <th>std</th>\n",
              "      <td>5.91608</td>\n",
              "      <td>6.734827</td>\n",
              "      <td>1.821686e+07</td>\n",
              "      <td>0.0</td>\n",
              "      <td>7.250953</td>\n",
              "      <td>2.44734</td>\n",
              "      <td>6.778255</td>\n",
              "      <td>18.071204</td>\n",
              "      <td>15.752694</td>\n",
              "      <td>32.371202</td>\n",
              "      <td>21.007455</td>\n",
              "      <td>1.802776</td>\n",
              "      <td>0.938588</td>\n",
              "      <td>4.071402</td>\n",
              "      <td>2.821444e+08</td>\n",
              "      <td>1.127381e+07</td>\n",
              "      <td>4192.193659</td>\n",
              "      <td>33.625022</td>\n",
              "      <td>284.745182</td>\n",
              "      <td>679.843115</td>\n",
              "      <td>75.524325</td>\n",
              "      <td>34.776391</td>\n",
              "      <td>78.333481</td>\n",
              "      <td>39.323858</td>\n",
              "      <td>3.934998</td>\n",
              "      <td>2.546411</td>\n",
              "      <td>16.044018</td>\n",
              "      <td>4.165965</td>\n",
              "      <td>10.557611</td>\n",
              "      <td>1.424411</td>\n",
              "      <td>2.433862</td>\n",
              "      <td>1.136708</td>\n",
              "      <td>24.267099</td>\n",
              "      <td>37.160923</td>\n",
              "      <td>71.058982</td>\n",
              "      <td>65.310493</td>\n",
              "      <td>1.880649</td>\n",
              "      <td>166.150661</td>\n",
              "      <td>84.536756</td>\n",
              "      <td>2.109502</td>\n",
              "      <td>6.387692</td>\n",
              "      <td>5.866129</td>\n",
              "    </tr>\n",
              "    <tr>\n",
              "      <th>min</th>\n",
              "      <td>1.00000</td>\n",
              "      <td>10.000000</td>\n",
              "      <td>9.662886e+07</td>\n",
              "      <td>38.0</td>\n",
              "      <td>3.000000</td>\n",
              "      <td>2.00000</td>\n",
              "      <td>1.000000</td>\n",
              "      <td>22.000000</td>\n",
              "      <td>22.000000</td>\n",
              "      <td>-54.000000</td>\n",
              "      <td>16.000000</td>\n",
              "      <td>20.000000</td>\n",
              "      <td>26.100000</td>\n",
              "      <td>10.000000</td>\n",
              "      <td>8.549200e+07</td>\n",
              "      <td>3.053600e+06</td>\n",
              "      <td>10226.000000</td>\n",
              "      <td>15.000000</td>\n",
              "      <td>1774.000000</td>\n",
              "      <td>1418.000000</td>\n",
              "      <td>562.000000</td>\n",
              "      <td>140.000000</td>\n",
              "      <td>360.000000</td>\n",
              "      <td>108.000000</td>\n",
              "      <td>4.000000</td>\n",
              "      <td>1.000000</td>\n",
              "      <td>17.000000</td>\n",
              "      <td>1.000000</td>\n",
              "      <td>38.000000</td>\n",
              "      <td>0.000000</td>\n",
              "      <td>0.000000</td>\n",
              "      <td>0.000000</td>\n",
              "      <td>58.000000</td>\n",
              "      <td>63.000000</td>\n",
              "      <td>314.000000</td>\n",
              "      <td>518.000000</td>\n",
              "      <td>0.000000</td>\n",
              "      <td>543.000000</td>\n",
              "      <td>246.000000</td>\n",
              "      <td>1.000000</td>\n",
              "      <td>39.100000</td>\n",
              "      <td>63.900000</td>\n",
              "    </tr>\n",
              "    <tr>\n",
              "      <th>25%</th>\n",
              "      <td>5.75000</td>\n",
              "      <td>11.750000</td>\n",
              "      <td>1.069409e+08</td>\n",
              "      <td>38.0</td>\n",
              "      <td>10.750000</td>\n",
              "      <td>6.75000</td>\n",
              "      <td>12.250000</td>\n",
              "      <td>44.250000</td>\n",
              "      <td>46.000000</td>\n",
              "      <td>-20.750000</td>\n",
              "      <td>39.750000</td>\n",
              "      <td>25.000000</td>\n",
              "      <td>26.800000</td>\n",
              "      <td>15.500000</td>\n",
              "      <td>1.723480e+08</td>\n",
              "      <td>6.747400e+06</td>\n",
              "      <td>15006.500000</td>\n",
              "      <td>34.500000</td>\n",
              "      <td>2248.000000</td>\n",
              "      <td>2192.750000</td>\n",
              "      <td>612.500000</td>\n",
              "      <td>174.750000</td>\n",
              "      <td>440.000000</td>\n",
              "      <td>145.000000</td>\n",
              "      <td>6.500000</td>\n",
              "      <td>2.000000</td>\n",
              "      <td>38.500000</td>\n",
              "      <td>4.750000</td>\n",
              "      <td>55.750000</td>\n",
              "      <td>1.000000</td>\n",
              "      <td>1.000000</td>\n",
              "      <td>0.000000</td>\n",
              "      <td>94.750000</td>\n",
              "      <td>108.000000</td>\n",
              "      <td>364.250000</td>\n",
              "      <td>604.500000</td>\n",
              "      <td>2.000000</td>\n",
              "      <td>768.000000</td>\n",
              "      <td>390.250000</td>\n",
              "      <td>4.750000</td>\n",
              "      <td>46.300000</td>\n",
              "      <td>75.550000</td>\n",
              "    </tr>\n",
              "    <tr>\n",
              "      <th>50%</th>\n",
              "      <td>10.50000</td>\n",
              "      <td>15.000000</td>\n",
              "      <td>1.213295e+08</td>\n",
              "      <td>38.0</td>\n",
              "      <td>14.500000</td>\n",
              "      <td>7.00000</td>\n",
              "      <td>16.000000</td>\n",
              "      <td>51.500000</td>\n",
              "      <td>53.500000</td>\n",
              "      <td>-2.500000</td>\n",
              "      <td>51.000000</td>\n",
              "      <td>25.500000</td>\n",
              "      <td>27.250000</td>\n",
              "      <td>18.000000</td>\n",
              "      <td>2.317260e+08</td>\n",
              "      <td>9.935200e+06</td>\n",
              "      <td>16426.000000</td>\n",
              "      <td>50.500000</td>\n",
              "      <td>2325.000000</td>\n",
              "      <td>2427.000000</td>\n",
              "      <td>640.500000</td>\n",
              "      <td>193.500000</td>\n",
              "      <td>472.000000</td>\n",
              "      <td>159.500000</td>\n",
              "      <td>9.500000</td>\n",
              "      <td>4.000000</td>\n",
              "      <td>44.000000</td>\n",
              "      <td>7.000000</td>\n",
              "      <td>59.500000</td>\n",
              "      <td>2.000000</td>\n",
              "      <td>3.000000</td>\n",
              "      <td>1.000000</td>\n",
              "      <td>113.500000</td>\n",
              "      <td>132.000000</td>\n",
              "      <td>434.500000</td>\n",
              "      <td>655.000000</td>\n",
              "      <td>3.500000</td>\n",
              "      <td>888.000000</td>\n",
              "      <td>445.000000</td>\n",
              "      <td>5.000000</td>\n",
              "      <td>48.350000</td>\n",
              "      <td>78.150000</td>\n",
              "    </tr>\n",
              "    <tr>\n",
              "      <th>75%</th>\n",
              "      <td>15.25000</td>\n",
              "      <td>25.000000</td>\n",
              "      <td>1.422731e+08</td>\n",
              "      <td>38.0</td>\n",
              "      <td>19.500000</td>\n",
              "      <td>9.00000</td>\n",
              "      <td>19.250000</td>\n",
              "      <td>63.500000</td>\n",
              "      <td>65.750000</td>\n",
              "      <td>13.750000</td>\n",
              "      <td>67.000000</td>\n",
              "      <td>26.000000</td>\n",
              "      <td>28.150000</td>\n",
              "      <td>20.000000</td>\n",
              "      <td>5.882800e+08</td>\n",
              "      <td>2.326060e+07</td>\n",
              "      <td>19602.750000</td>\n",
              "      <td>78.000000</td>\n",
              "      <td>2522.750000</td>\n",
              "      <td>2838.000000</td>\n",
              "      <td>713.500000</td>\n",
              "      <td>209.250000</td>\n",
              "      <td>517.750000</td>\n",
              "      <td>185.250000</td>\n",
              "      <td>12.000000</td>\n",
              "      <td>5.000000</td>\n",
              "      <td>53.250000</td>\n",
              "      <td>10.000000</td>\n",
              "      <td>71.250000</td>\n",
              "      <td>4.000000</td>\n",
              "      <td>5.000000</td>\n",
              "      <td>2.000000</td>\n",
              "      <td>128.500000</td>\n",
              "      <td>147.250000</td>\n",
              "      <td>472.500000</td>\n",
              "      <td>702.500000</td>\n",
              "      <td>4.000000</td>\n",
              "      <td>972.750000</td>\n",
              "      <td>499.250000</td>\n",
              "      <td>7.000000</td>\n",
              "      <td>54.000000</td>\n",
              "      <td>82.525000</td>\n",
              "    </tr>\n",
              "    <tr>\n",
              "      <th>max</th>\n",
              "      <td>20.00000</td>\n",
              "      <td>29.000000</td>\n",
              "      <td>1.524251e+08</td>\n",
              "      <td>38.0</td>\n",
              "      <td>32.000000</td>\n",
              "      <td>12.00000</td>\n",
              "      <td>28.000000</td>\n",
              "      <td>95.000000</td>\n",
              "      <td>81.000000</td>\n",
              "      <td>72.000000</td>\n",
              "      <td>98.000000</td>\n",
              "      <td>28.000000</td>\n",
              "      <td>29.700000</td>\n",
              "      <td>27.000000</td>\n",
              "      <td>1.003200e+09</td>\n",
              "      <td>3.998720e+07</td>\n",
              "      <td>26581.000000</td>\n",
              "      <td>146.000000</td>\n",
              "      <td>2898.000000</td>\n",
              "      <td>4240.000000</td>\n",
              "      <td>814.000000</td>\n",
              "      <td>298.000000</td>\n",
              "      <td>683.000000</td>\n",
              "      <td>260.000000</td>\n",
              "      <td>19.000000</td>\n",
              "      <td>10.000000</td>\n",
              "      <td>84.000000</td>\n",
              "      <td>15.000000</td>\n",
              "      <td>77.000000</td>\n",
              "      <td>5.000000</td>\n",
              "      <td>9.000000</td>\n",
              "      <td>3.000000</td>\n",
              "      <td>148.000000</td>\n",
              "      <td>222.000000</td>\n",
              "      <td>548.000000</td>\n",
              "      <td>730.000000</td>\n",
              "      <td>8.000000</td>\n",
              "      <td>1120.000000</td>\n",
              "      <td>564.000000</td>\n",
              "      <td>10.000000</td>\n",
              "      <td>64.000000</td>\n",
              "      <td>89.000000</td>\n",
              "    </tr>\n",
              "  </tbody>\n",
              "</table>\n",
              "</div>"
            ],
            "text/plain": [
              "       general_league_position  ...  attack_pass_accuracy\n",
              "count                 20.00000  ...             20.000000\n",
              "mean                  10.50000  ...             78.310000\n",
              "std                    5.91608  ...              5.866129\n",
              "min                    1.00000  ...             63.900000\n",
              "25%                    5.75000  ...             75.550000\n",
              "50%                   10.50000  ...             78.150000\n",
              "75%                   15.25000  ...             82.525000\n",
              "max                   20.00000  ...             89.000000\n",
              "\n",
              "[8 rows x 42 columns]"
            ]
          },
          "metadata": {
            "tags": []
          },
          "execution_count": 114
        }
      ]
    },
    {
      "cell_type": "markdown",
      "metadata": {
        "id": "oWmZZvP6O8qQ"
      },
      "source": [
        "> Kesimpulan dari Nomor 1 adalah data not clean. Proses cleansing dimulai dengan penyesuaian saat read csv harus ada parameter thousands agar yang ada comma tidak menjadi string/object. Setelah itu kita check duplicates team, check missing values dan describe."
      ]
    },
    {
      "cell_type": "markdown",
      "metadata": {
        "id": "LeorAHIaPUT6"
      },
      "source": [
        "### 2. How is the point distribution of the epl team? and which team is an anomaly?"
      ]
    },
    {
      "cell_type": "code",
      "metadata": {
        "colab": {
          "base_uri": "https://localhost:8080/",
          "height": 298
        },
        "id": "AQF7lYnJBXRa",
        "outputId": "cc3a60d3-7a87-402e-f4c1-bd382ebe3637"
      },
      "source": [
        "# Check distribution dari general points\r\n",
        "\r\n",
        "sns.kdeplot(df['general_points'], shade=True)\r\n",
        "\r\n",
        "# Diperoleh hasil yg normal distribution"
      ],
      "execution_count": null,
      "outputs": [
        {
          "output_type": "execute_result",
          "data": {
            "text/plain": [
              "<matplotlib.axes._subplots.AxesSubplot at 0x7ff00508cd50>"
            ]
          },
          "metadata": {
            "tags": []
          },
          "execution_count": 115
        },
        {
          "output_type": "display_data",
          "data": {
            "image/png": "[encoded data removed]",
            "text/plain": [
              "<Figure size 432x288 with 1 Axes>"
            ]
          },
          "metadata": {
            "tags": [],
            "needs_background": "light"
          }
        }
      ]
    },
    {
      "cell_type": "code",
      "metadata": {
        "colab": {
          "base_uri": "https://localhost:8080/",
          "height": 265
        },
        "id": "dOzL3BX_Btll",
        "outputId": "4537d8c3-b711-4ab3-be5a-fb392140ace7"
      },
      "source": [
        "# kita check data anomali menggunakan boxplot\r\n",
        "\r\n",
        "ax = sns.boxplot(data=df['general_points'], orient=\"h\")\r\n",
        "\r\n",
        "# Diperoleh hasil tidak ada anomali pada general_points"
      ],
      "execution_count": null,
      "outputs": [
        {
          "output_type": "display_data",
          "data": {
            "image/png": "[encoded data removed]",
            "text/plain": [
              "<Figure size 432x288 with 1 Axes>"
            ]
          },
          "metadata": {
            "tags": [],
            "needs_background": "light"
          }
        }
      ]
    },
    {
      "cell_type": "code",
      "metadata": {
        "colab": {
          "base_uri": "https://localhost:8080/"
        },
        "id": "oqRnH5U8PbIJ",
        "outputId": "3f4d69ee-d4e7-46a3-b2bf-528b72107416"
      },
      "source": [
        "# Uji normalitas dengan Shapiro Wilk Test\r\n",
        "\r\n",
        "stat, p = shapiro(df['general_points'])\r\n",
        "print('Statistics=%.3f, p=%.3f' % (stat, p))\r\n",
        "alpha = 0.05\r\n",
        "if p > alpha:\r\n",
        "\tprint('Sample looks Gaussian (fail to reject H0)')\r\n",
        "else:\r\n",
        "\tprint('Sample does not look Gaussian (reject H0)')\r\n",
        " \r\n",
        "\r\n",
        " # Hasil Uji normalitas juga menunjukkan tidak ada anomaly karena p > alpha"
      ],
      "execution_count": null,
      "outputs": [
        {
          "output_type": "stream",
          "text": [
            "Statistics=0.953, p=0.411\n",
            "Sample looks Gaussian (fail to reject H0)\n"
          ],
          "name": "stdout"
        }
      ]
    },
    {
      "cell_type": "markdown",
      "metadata": {
        "id": "Cyj0Z9C7Y0V1"
      },
      "source": [
        "## Data Analysis"
      ]
    },
    {
      "cell_type": "markdown",
      "metadata": {
        "id": "xLEpGgrtV9mq"
      },
      "source": [
        "### 3. Which team has the best attack?"
      ]
    },
    {
      "cell_type": "code",
      "metadata": {
        "colab": {
          "base_uri": "https://localhost:8080/",
          "height": 454
        },
        "id": "YIKVCkJBWB69",
        "outputId": "1b06a87a-f0b4-4ec4-8fa6-c290d6617414"
      },
      "source": [
        "# kita buat dataframe untuk soal nomor 3\r\n",
        "attack = df[['Team','attack_pass_accuracy','attack_posession','attack_shots_on_target','attack_scored']].reset_index()\r\n",
        "\r\n",
        "# gunakan MinMaxScaler dengan range dari 0 - 1\r\n",
        "scaler = MinMaxScaler(feature_range=(0,1))\r\n",
        "\r\n",
        "# pisahkan number dan category\r\n",
        "attack_number = attack[['attack_pass_accuracy','attack_posession','attack_shots_on_target','attack_scored']]\r\n",
        "attack_name = attack['Team']\r\n",
        "\r\n",
        "# run scaler dan jadikan dataframe presult\r\n",
        "scaler.fit(attack_number)\r\n",
        "attack_result = pd.DataFrame(scaler.transform(attack_number))\r\n",
        "\r\n",
        "# Jumlahkan semua hasil parameter kolom score\r\n",
        "attack_result['score'] = attack_result.sum(axis=1)\r\n",
        "\r\n",
        "# kita gabungkan dengan dataframe attack_name dan sort values descending based on Score\r\n",
        "attack = pd.concat([attack_name, attack_result], axis=1, sort=False)\r\n",
        "attack = attack.sort_values(by=['score'], ascending=False)\r\n",
        "print(attack.head())\r\n",
        "print('\\r')\r\n",
        "\r\n",
        "# Bar Chart top 5 \r\n",
        "ax = sns.barplot(y=attack['Team'], x=attack['score'], data=attack, palette=\"Blues_r\").set_title('Best Attack Teams Chart')\r\n",
        "\r\n",
        "print('The best team attack is ' + attack['Team'][attack['score'] == attack['score'].max()])"
      ],
      "execution_count": null,
      "outputs": [
        {
          "output_type": "stream",
          "text": [
            "                Team         0         1         2         3     score\n",
            "0    Manchester City  1.000000  1.000000  1.000000  1.000000  4.000000\n",
            "1          Liverpool  0.816733  0.791165  0.776316  0.917808  3.302022\n",
            "2            Chelsea  0.944223  0.835341  0.592105  0.561644  2.933314\n",
            "5  Manchester United  0.733068  0.570281  0.769737  0.589041  2.662127\n",
            "3          Tottenham  0.768924  0.706827  0.532895  0.616438  2.625085\n",
            "\r\n",
            "0    The best team attack is Manchester City\n",
            "Name: Team, dtype: object\n"
          ],
          "name": "stdout"
        },
        {
          "output_type": "display_data",
          "data": {
            "image/png": "[encoded data removed]",
            "text/plain": [
              "<Figure size 432x288 with 1 Axes>"
            ]
          },
          "metadata": {
            "tags": [],
            "needs_background": "light"
          }
        }
      ]
    },
    {
      "cell_type": "markdown",
      "metadata": {
        "id": "6Vk_ixlodD4g"
      },
      "source": [
        "### 4. Which team has the best defense?"
      ]
    },
    {
      "cell_type": "code",
      "metadata": {
        "colab": {
          "base_uri": "https://localhost:8080/",
          "height": 490
        },
        "id": "KLMKouq-c-J1",
        "outputId": "a7fa7b49-f8a3-4e7d-9068-b90d9dd77bd0"
      },
      "source": [
        "# Hitung jumlah kebobolan berbanding dengan defence tim tersebut\r\n",
        "# semakin rendah, semakin baik team tersebut dalam defence\r\n",
        "df['defence_rate'] = df['defence_goals_conceeded'] /(df['defence_blocks'] + df['defence_saves'])\r\n",
        "\r\n",
        "\r\n",
        "# kita pisahkan untuk data defence dan sort values based on defence rate\r\n",
        "defence = df[['Team','defence_goals_conceeded','defence_blocks','defence_saves','defence_rate']].sort_values(by=['defence_rate'])\r\n",
        "print(defence.head())\r\n",
        "print('\\r')\r\n",
        "\r\n",
        "# Bar Chart top 5 \r\n",
        "ax = sns.barplot(y=defence['Team'], x=defence['defence_rate'], data=defence, palette=\"Reds_r\").set_title('Best Defence Teams (Lower is Better)')\r\n",
        "\r\n",
        "print('The best team defence is ' + defence['Team'][defence['defence_rate'] == defence['defence_rate'].min()])"
      ],
      "execution_count": null,
      "outputs": [
        {
          "output_type": "stream",
          "text": [
            "               Team  defence_goals_conceeded  ...  defence_saves  defence_rate\n",
            "1         Liverpool                       22  ...             76      0.142857\n",
            "3         Tottenham                       39  ...            121      0.167382\n",
            "6     Wolverhampton                       46  ...            100      0.185484\n",
            "14          Burnley                       68  ...            140      0.187845\n",
            "0   Manchester City                       23  ...             58      0.190083\n",
            "\n",
            "[5 rows x 5 columns]\n",
            "\r\n",
            "1    The best team defence is Liverpool\n",
            "Name: Team, dtype: object\n"
          ],
          "name": "stdout"
        },
        {
          "output_type": "display_data",
          "data": {
            "image/png": "[encoded data removed]",
            "text/plain": [
              "<Figure size 432x288 with 1 Axes>"
            ]
          },
          "metadata": {
            "tags": [],
            "needs_background": "light"
          }
        }
      ]
    },
    {
      "cell_type": "markdown",
      "metadata": {
        "id": "I0X2Fk2ceWfb"
      },
      "source": [
        "### 5. Which team is good in financial aspect?"
      ]
    },
    {
      "cell_type": "code",
      "metadata": {
        "colab": {
          "base_uri": "https://localhost:8080/",
          "height": 454
        },
        "id": "CSoayXy-fFnq",
        "outputId": "9c39a3e8-ec59-4204-99e0-c342a20d8e43"
      },
      "source": [
        "# kita buat dataframe untuk soal nomor 5\r\n",
        "\r\n",
        "finance = df[['Team','finance _market_average','finance _team_market','finance _tv_revenue']].reset_index()\r\n",
        "\r\n",
        "# gunakan MinMaxScaler dengan range dari 0 - 1\r\n",
        "scaler = MinMaxScaler(feature_range=(0,1))\r\n",
        "\r\n",
        "# pisahkan number dan category\r\n",
        "finance_number = finance[['finance _market_average','finance _team_market','finance _tv_revenue']]\r\n",
        "finance_name = finance['Team']\r\n",
        "\r\n",
        "# run scaler dan jadikan dataframe presult\r\n",
        "scaler.fit(finance_number)\r\n",
        "finance_result = pd.DataFrame(scaler.transform(finance_number))\r\n",
        "\r\n",
        "# Jumlahkan semua hasil parameter kolom score\r\n",
        "finance_result['score'] = finance_result.sum(axis=1)\r\n",
        "\r\n",
        "# kita gabungkan dengan dataframe finance_name dan sort values descending based on Score\r\n",
        "finance = pd.concat([finance_name, finance_result], axis=1, sort=False)\r\n",
        "finance = finance.sort_values(by=['score'], ascending=False)\r\n",
        "print(finance.head())\r\n",
        "print('\\r')\r\n",
        "\r\n",
        "# Bar Chart top 5 \r\n",
        "ax = sns.barplot(y=finance['Team'], x=finance['score'].sort_values(ascending=False), data=finance, palette=\"Greens_r\").set_title('Good Teams in Financial Aspect')\r\n",
        "\r\n",
        "print('The good team in financial is ' + finance['Team'][finance['score'] == finance['score'].max()])"
      ],
      "execution_count": null,
      "outputs": [
        {
          "output_type": "stream",
          "text": [
            "              Team         0         1         2     score\n",
            "0  Manchester City  1.000000  1.000000  0.974213  2.974213\n",
            "1        Liverpool  0.860853  0.818286  1.000000  2.679139\n",
            "2          Chelsea  0.729092  0.756197  0.885388  2.370677\n",
            "3        Tottenham  0.713605  0.708012  0.871060  2.292677\n",
            "4          Arsenal  0.648082  0.671573  0.816619  2.136274\n",
            "\r\n",
            "0    The good team in financial is Manchester City\n",
            "Name: Team, dtype: object\n"
          ],
          "name": "stdout"
        },
        {
          "output_type": "display_data",
          "data": {
            "image/png": "[encoded data removed]",
            "text/plain": [
              "<Figure size 432x288 with 1 Axes>"
            ]
          },
          "metadata": {
            "tags": [],
            "needs_background": "light"
          }
        }
      ]
    },
    {
      "cell_type": "markdown",
      "metadata": {
        "id": "2eR-JnkjgBcJ"
      },
      "source": [
        "### 6. Creativity"
      ]
    },
    {
      "cell_type": "markdown",
      "metadata": {
        "id": "LvlP9Kgoh7kT"
      },
      "source": [
        "#### Which team is the worst in violation and have lost the most?"
      ]
    },
    {
      "cell_type": "code",
      "metadata": {
        "colab": {
          "base_uri": "https://localhost:8080/",
          "height": 454
        },
        "id": "1dRSMgPdgBcU",
        "outputId": "c2f6cde3-a122-4e10-99f2-98d1107e4ea7"
      },
      "source": [
        "# kita buat dataframe untuk soal nomor 6\r\n",
        "\r\n",
        "worst = df[['Team','general_card_red','general_card_yellow','general_lost']].reset_index()\r\n",
        "\r\n",
        "# gunakan MinMaxScaler dengan range dari 0 - 1\r\n",
        "scaler = MinMaxScaler(feature_range=(0,1))\r\n",
        "\r\n",
        "# pisahkan number dan category\r\n",
        "worst_number = worst[['general_card_red','general_card_yellow','general_lost']]\r\n",
        "worst_name = worst['Team']\r\n",
        "\r\n",
        "# run scaler dan jadikan dataframe worst_result\r\n",
        "scaler.fit(worst_number)\r\n",
        "worst_result = pd.DataFrame(scaler.transform(worst_number))\r\n",
        "\r\n",
        "# Jumlahkan semua hasil parameter kolom score\r\n",
        "worst_result['score'] = worst_result.sum(axis=1)\r\n",
        "\r\n",
        "# kita gabungkan dengan dataframe worst_name dan sort values descending based on Score\r\n",
        "worst = pd.concat([worst_name, worst_result], axis=1, sort=False)\r\n",
        "worst = worst.sort_values(by=['score'], ascending=False)\r\n",
        "print(worst.head())\r\n",
        "print('\\r')\r\n",
        "\r\n",
        "# Bar Chart top 5 \r\n",
        "ax = sns.barplot(y=worst['Team'].head(), x=worst['score'].head().sort_values(ascending=False), data=worst, palette=\"Oranges_r\").set_title('Top 5 Worst Teams in Violation and Lost')\r\n",
        "\r\n",
        "print('The worst team is ' + worst['Team'][worst['score'] == worst['score'].max()])"
      ],
      "execution_count": null,
      "outputs": [
        {
          "output_type": "stream",
          "text": [
            "            Team    0         1         2     score\n",
            "10       Watford  0.8  1.000000  0.555556  2.355556\n",
            "19  Huddersfield  0.8  0.435897  1.000000  2.235897\n",
            "18        Fulham  0.4  0.769231  0.925926  2.095157\n",
            "16      Brighton  0.8  0.564103  0.703704  2.067806\n",
            "8      Leicester  1.0  0.487179  0.555556  2.042735\n",
            "\r\n",
            "10    The worst team is Watford\n",
            "Name: Team, dtype: object\n"
          ],
          "name": "stdout"
        },
        {
          "output_type": "display_data",
          "data": {
            "image/png": "[encoded data removed]",
            "text/plain": [
              "<Figure size 432x288 with 1 Axes>"
            ]
          },
          "metadata": {
            "tags": [],
            "needs_background": "light"
          }
        }
      ]
    },
    {
      "cell_type": "markdown",
      "metadata": {
        "id": "Vcf5I5zTifgf"
      },
      "source": [
        "#### Is there any correlation between Lost, Red, and Yellow Card ?"
      ]
    },
    {
      "cell_type": "code",
      "metadata": {
        "colab": {
          "base_uri": "https://localhost:8080/",
          "height": 361
        },
        "id": "VzR3ecCTiAgC",
        "outputId": "1db663bb-a477-481b-e78f-f9f102911922"
      },
      "source": [
        "lost_red = df[['Team','general_card_red','general_card_yellow','general_lost']]\r\n",
        "\r\n",
        "corrMatrix = lost_red.corr()\r\n",
        "sns.heatmap(corrMatrix, annot=True)\r\n",
        "plt.show()"
      ],
      "execution_count": null,
      "outputs": [
        {
          "output_type": "display_data",
          "data": {
            "image/png": "[encoded data removed]",
            "text/plain": [
              "<Figure size 432x288 with 2 Axes>"
            ]
          },
          "metadata": {
            "tags": [],
            "needs_background": "light"
          }
        }
      ]
    },
    {
      "cell_type": "markdown",
      "metadata": {
        "id": "1-lZzUVXPs3B"
      },
      "source": [
        "## Finish"
      ]
    }
  ]
}